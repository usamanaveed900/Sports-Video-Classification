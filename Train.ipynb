{
 "cells": [
  {
   "cell_type": "code",
   "execution_count": 1,
   "metadata": {},
   "outputs": [],
   "source": [
    "import os\n",
    "import cv2\n",
    "import numpy as np\n",
    "from imutils import paths\n",
    "import pickle"
   ]
  },
  {
   "cell_type": "code",
   "execution_count": 2,
   "metadata": {},
   "outputs": [],
   "source": [
    "from sklearn.preprocessing import LabelBinarizer\n",
    "from sklearn.model_selection import train_test_split\n",
    "from keras.preprocessing.image import ImageDataGenerator"
   ]
  },
  {
   "cell_type": "code",
   "execution_count": 3,
   "metadata": {},
   "outputs": [],
   "source": [
    "from keras.applications import ResNet50\n",
    "\n",
    "from keras.layers import Input\n",
    "from keras.layers.pooling import AveragePooling2D\n",
    "from keras.layers.core import Flatten\n",
    "from keras.layers.core import Dense\n",
    "\n",
    "from keras.layers.core import Dropout\n",
    "\n",
    "from keras.models import Model\n",
    "\n",
    "from keras.optimizers import SGD"
   ]
  },
  {
   "cell_type": "code",
   "execution_count": 4,
   "metadata": {},
   "outputs": [],
   "source": [
    "dataPath = r\"./Data\"\n",
    "outputModel = r\"./Model/ClassificationModel\"\n",
    "ouputLabelBinarizer = r\"./Model/ClassificationBinarizer\""
   ]
  },
  {
   "cell_type": "code",
   "execution_count": 5,
   "metadata": {},
   "outputs": [],
   "source": [
    "# Reproducibility\n",
    "\n",
    "epoch = 25"
   ]
  },
  {
   "cell_type": "code",
   "execution_count": 6,
   "metadata": {},
   "outputs": [
    {
     "name": "stdout",
     "output_type": "stream",
     "text": [
      "Images are being loaded ....\n"
     ]
    }
   ],
   "source": [
    "Sports_Labels = set(['boxing','swimming','wwe','football','basketball','table_tennis','hockey'])\n",
    "print (\"Images are being loaded ....\")\n",
    "pathToImages = list(paths.list_images(dataPath)) \n",
    "data = []\n",
    "labels = []\n",
    "\n",
    "# PreProcessing of Data\n",
    "\n",
    "for images in pathToImages:\n",
    "    label = images.split(os.path.sep)[-2]\n",
    "    if label not in Sports_Labels:\n",
    "        continue\n",
    "    image = cv2.imread(images)\n",
    "    image = cv2.cvtColor(image, cv2.COLOR_BGR2RGB)\n",
    "    image = cv2.resize(image, (224,244))\n",
    "    data.append(image)\n",
    "    labels.append(label)"
   ]
  },
  {
   "cell_type": "code",
   "execution_count": 7,
   "metadata": {},
   "outputs": [
    {
     "name": "stdout",
     "output_type": "stream",
     "text": [
      "[[1 0 0 ... 0 0 0]\n",
      " [1 0 0 ... 0 0 0]\n",
      " [1 0 0 ... 0 0 0]\n",
      " ...\n",
      " [0 0 0 ... 0 0 1]\n",
      " [0 0 0 ... 0 0 1]\n",
      " [0 0 0 ... 0 0 1]]\n"
     ]
    }
   ],
   "source": [
    "# Coverting data and labels to numpy arrays for model training\n",
    "data = np.array(data)\n",
    "labels = np.array(labels)\n",
    "\n",
    "# Hot Encoded Values as 0,1,2,3,4,5,6\n",
    "lb = LabelBinarizer()\n",
    "labels = lb.fit_transform(labels)\n",
    "print(labels)"
   ]
  },
  {
   "cell_type": "code",
   "execution_count": 8,
   "metadata": {},
   "outputs": [],
   "source": [
    "# train test data split\n",
    "(X_train, X_test, Y_train, Y_test) = train_test_split(data,labels,test_size=0.25,stratify=labels,random_state=42)"
   ]
  },
  {
   "cell_type": "code",
   "execution_count": 9,
   "metadata": {},
   "outputs": [],
   "source": [
    "# Augmentation\n",
    "trainingAugmentation = ImageDataGenerator(\n",
    "    rotation_range=30,\n",
    "    zoom_range=0.15,\n",
    "    width_shift_range=0.2,\n",
    "    height_shift_range=0.2,\n",
    "    shear_range=0.15,\n",
    "    horizontal_flip=True,\n",
    "    fill_mode='nearest'\n",
    ")\n",
    "\n",
    "# Validation Augmentation\n",
    "validationAugmentation = ImageDataGenerator()\n",
    "\n",
    "mean = np.array([123.68, 116.779, 103,939] , dtype=\"float32\")\n",
    "trainingAugmentation.mean = mean\n",
    "validationAugmentation.mean = mean"
   ]
  },
  {
   "cell_type": "code",
   "execution_count": 10,
   "metadata": {},
   "outputs": [],
   "source": [
    "baseModel = ResNet50(weights=\"imagenet\", include_top=False, input_tensor=Input(shape=(224,244,3)))\n",
    "\n",
    "headModel = baseModel.output\n",
    "haedModel = AveragePooling2D(pool_size=(7,7))(headModel)\n",
    "headModel = Flatten(name=\"flatten\")(headModel)\n",
    "headModel = Dense(512,activation=\"relu\")(headModel)\n",
    "headModel = Dropout(0.5)(headModel)\n",
    "headModel = Dense(len(lb.classes_), activation=\"softmax\")(headModel)\n",
    "model = Model(inputs=baseModel.input , outputs=headModel)\n",
    "\n",
    "for baseModelLayers in baseModel.layers:\n",
    "    baseModelLayers.trainable = False"
   ]
  },
  {
   "cell_type": "code",
   "execution_count": 11,
   "metadata": {},
   "outputs": [],
   "source": [
    "opt = SGD(lr=0.0001, momentum=0.9, decay=1e-4/epoch)"
   ]
  },
  {
   "cell_type": "code",
   "execution_count": 15,
   "metadata": {},
   "outputs": [],
   "source": [
    "model.compile(optimizer=opt, loss=\"categorical_crossentropy\", metrics=[\"accuracy\"])"
   ]
  },
  {
   "cell_type": "code",
   "execution_count": 16,
   "metadata": {},
   "outputs": [
    {
     "name": "stdout",
     "output_type": "stream",
     "text": [
      "WARNING:tensorflow:From <ipython-input-16-08735770484c>:6: Model.fit_generator (from tensorflow.python.keras.engine.training) is deprecated and will be removed in a future version.\n",
      "Instructions for updating:\n",
      "Please use Model.fit, which supports generators.\n",
      "Epoch 1/25\n",
      "107/107 [==============================] - 561s 5s/step - loss: 1.5909 - accuracy: 0.5712 - val_loss: 0.4919 - val_accuracy: 0.8232\n",
      "Epoch 2/25\n",
      "107/107 [==============================] - 584s 5s/step - loss: 0.7541 - accuracy: 0.7306 - val_loss: 0.4004 - val_accuracy: 0.8598\n",
      "Epoch 3/25\n",
      "107/107 [==============================] - 558s 5s/step - loss: 0.6387 - accuracy: 0.7789 - val_loss: 0.3629 - val_accuracy: 0.8687\n",
      "Epoch 4/25\n",
      "107/107 [==============================] - 588s 5s/step - loss: 0.5661 - accuracy: 0.8061 - val_loss: 0.3260 - val_accuracy: 0.8866\n",
      "Epoch 5/25\n",
      "107/107 [==============================] - 572s 5s/step - loss: 0.5099 - accuracy: 0.8140 - val_loss: 0.2996 - val_accuracy: 0.9009\n",
      "Epoch 6/25\n",
      "107/107 [==============================] - 532s 5s/step - loss: 0.4861 - accuracy: 0.8280 - val_loss: 0.2857 - val_accuracy: 0.9009\n",
      "Epoch 7/25\n",
      "107/107 [==============================] - 528s 5s/step - loss: 0.4510 - accuracy: 0.8383 - val_loss: 0.2839 - val_accuracy: 0.9027\n",
      "Epoch 8/25\n",
      "107/107 [==============================] - 536s 5s/step - loss: 0.4132 - accuracy: 0.8500 - val_loss: 0.2656 - val_accuracy: 0.9071\n",
      "Epoch 9/25\n",
      "107/107 [==============================] - 591s 6s/step - loss: 0.4046 - accuracy: 0.8543 - val_loss: 0.2574 - val_accuracy: 0.9027\n",
      "Epoch 10/25\n",
      "107/107 [==============================] - 532s 5s/step - loss: 0.3892 - accuracy: 0.8646 - val_loss: 0.2601 - val_accuracy: 0.9134\n",
      "Epoch 11/25\n",
      "107/107 [==============================] - 543s 5s/step - loss: 0.3658 - accuracy: 0.8675 - val_loss: 0.2586 - val_accuracy: 0.9062\n",
      "Epoch 12/25\n",
      "107/107 [==============================] - 532s 5s/step - loss: 0.3621 - accuracy: 0.8698 - val_loss: 0.2742 - val_accuracy: 0.9036\n",
      "Epoch 13/25\n",
      "107/107 [==============================] - 559s 5s/step - loss: 0.3263 - accuracy: 0.8827 - val_loss: 0.2545 - val_accuracy: 0.9107\n",
      "Epoch 14/25\n",
      "107/107 [==============================] - 597s 6s/step - loss: 0.3205 - accuracy: 0.8827 - val_loss: 0.2403 - val_accuracy: 0.9196\n",
      "Epoch 15/25\n",
      "107/107 [==============================] - 649s 6s/step - loss: 0.2982 - accuracy: 0.8932 - val_loss: 0.2181 - val_accuracy: 0.9232\n",
      "Epoch 16/25\n",
      "107/107 [==============================] - 617s 6s/step - loss: 0.3058 - accuracy: 0.8877 - val_loss: 0.2275 - val_accuracy: 0.9196\n",
      "Epoch 17/25\n",
      "107/107 [==============================] - 581s 5s/step - loss: 0.2993 - accuracy: 0.8938 - val_loss: 0.2269 - val_accuracy: 0.9161\n",
      "Epoch 18/25\n",
      "107/107 [==============================] - 565s 5s/step - loss: 0.2852 - accuracy: 0.8950 - val_loss: 0.2188 - val_accuracy: 0.9187\n",
      "Epoch 19/25\n",
      "107/107 [==============================] - 571s 5s/step - loss: 0.2897 - accuracy: 0.8935 - val_loss: 0.2183 - val_accuracy: 0.9259\n",
      "Epoch 20/25\n",
      "107/107 [==============================] - 578s 5s/step - loss: 0.2575 - accuracy: 0.9079 - val_loss: 0.2191 - val_accuracy: 0.9241\n",
      "Epoch 21/25\n",
      "107/107 [==============================] - 605s 6s/step - loss: 0.2628 - accuracy: 0.9067 - val_loss: 0.2147 - val_accuracy: 0.9196\n",
      "Epoch 22/25\n",
      "107/107 [==============================] - 572s 5s/step - loss: 0.2427 - accuracy: 0.9087 - val_loss: 0.2229 - val_accuracy: 0.9205\n",
      "Epoch 23/25\n",
      "107/107 [==============================] - 525s 5s/step - loss: 0.2693 - accuracy: 0.9085 - val_loss: 0.2336 - val_accuracy: 0.9205\n",
      "Epoch 24/25\n",
      "107/107 [==============================] - 527s 5s/step - loss: 0.2521 - accuracy: 0.9090 - val_loss: 0.2314 - val_accuracy: 0.9223\n",
      "Epoch 25/25\n",
      "107/107 [==============================] - 525s 5s/step - loss: 0.2221 - accuracy: 0.9184 - val_loss: 0.2332 - val_accuracy: 0.9232\n"
     ]
    }
   ],
   "source": [
    "History = model.fit_generator(\n",
    "    trainingAugmentation.flow(X_train,Y_train, batch_size=32),\n",
    "    steps_per_epoch=len(X_train) // 32,\n",
    "    validation_data=validationAugmentation.flow(X_test,Y_test),\n",
    "    validation_steps=len(X_test) // 32,\n",
    "    epochs=epoch\n",
    ")"
   ]
  },
  {
   "cell_type": "code",
   "execution_count": 17,
   "metadata": {},
   "outputs": [
    {
     "name": "stdout",
     "output_type": "stream",
     "text": [
      "WARNING:tensorflow:From C:\\Users\\Dell\\AppData\\Roaming\\Python\\Python37\\site-packages\\tensorflow\\python\\training\\tracking\\tracking.py:111: Model.state_updates (from tensorflow.python.keras.engine.training) is deprecated and will be removed in a future version.\n",
      "Instructions for updating:\n",
      "This property should not be used in TensorFlow 2.0, as updates are applied automatically.\n",
      "WARNING:tensorflow:From C:\\Users\\Dell\\AppData\\Roaming\\Python\\Python37\\site-packages\\tensorflow\\python\\training\\tracking\\tracking.py:111: Layer.updates (from tensorflow.python.keras.engine.base_layer) is deprecated and will be removed in a future version.\n",
      "Instructions for updating:\n",
      "This property should not be used in TensorFlow 2.0, as updates are applied automatically.\n",
      "INFO:tensorflow:Assets written to: ./Model/ClassificationModel\\assets\n"
     ]
    }
   ],
   "source": [
    "model.save(outputModel)\n",
    "lblBinarizer = open(r\"./Model/ClassificationBinarizer/ClassificationBinarizer.pickle\",'wb')\n",
    "lblBinarizer.write(pickle.dumps(lb))\n",
    "lblBinarizer.close()"
   ]
  },
  {
   "cell_type": "code",
   "execution_count": null,
   "metadata": {},
   "outputs": [],
   "source": []
  }
 ],
 "metadata": {
  "kernelspec": {
   "display_name": "Python 3",
   "language": "python",
   "name": "python3"
  },
  "language_info": {
   "codemirror_mode": {
    "name": "ipython",
    "version": 3
   },
   "file_extension": ".py",
   "mimetype": "text/x-python",
   "name": "python",
   "nbconvert_exporter": "python",
   "pygments_lexer": "ipython3",
   "version": "3.7.4"
  }
 },
 "nbformat": 4,
 "nbformat_minor": 4
}
